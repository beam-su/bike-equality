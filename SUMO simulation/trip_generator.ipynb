{
 "cells": [
  {
   "cell_type": "markdown",
   "id": "77896cf6",
   "metadata": {},
   "source": [
    "# Trip Generator\n",
    "This notebook is used to geenrate valid OD pairs for SUMO simulations."
   ]
  },
  {
   "cell_type": "code",
   "execution_count": 1,
   "id": "096acb89",
   "metadata": {},
   "outputs": [],
   "source": [
    "import pandas as pd\n",
    "import numpy as np\n",
    "import geopandas as gpd\n",
    "import json\n",
    "from geopy.distance import geodesic\n",
    "from shapely.geometry import Point\n",
    "from sumolib.net import readNet\n",
    "import xml.etree.ElementTree as ET\n",
    "import random\n",
    "import h3\n",
    "from sklearn.neighbors import BallTree\n",
    "\n",
    "\n",
    "random.seed(42)"
   ]
  },
  {
   "cell_type": "code",
   "execution_count": 2,
   "id": "b4d975ed",
   "metadata": {},
   "outputs": [],
   "source": [
    "recommended_stations = pd.read_csv(r'../best_hexagons.csv', usecols=['h3_index'])\n",
    "existing_stations = pd.read_csv(r'../Datasets/existing_stations.csv', usecols=['lat','lon','name'])\n",
    "commuting_df = pd.read_csv(\"..\\\\Datasets\\\\Wandsworth-travel.csv\")\n",
    "\n",
    "with open(\"..\\\\geojson\\\\map.geojson\", \"r\") as f:\n",
    "    geojson = json.load(f)"
   ]
  },
  {
   "cell_type": "code",
   "execution_count": 3,
   "id": "b591b7d7",
   "metadata": {},
   "outputs": [],
   "source": [
    "gdf = gpd.GeoDataFrame.from_features(geojson[\"features\"], crs=\"EPSG:4326\")\n",
    "commuting_df = commuting_df.rename(columns={\n",
    "    commuting_df.columns[1]: 'lsoa21cd',\n",
    "    'Less than 2km': '<2km',\n",
    "    '2km to less than 5km': '<5km',\n",
    "    '5km to less than 10km': '<10km'\n",
    "})\n",
    "merged = gdf.merge(commuting_df, on='lsoa21cd')"
   ]
  },
  {
   "cell_type": "code",
   "execution_count": 4,
   "id": "8c28dc36",
   "metadata": {},
   "outputs": [],
   "source": [
    "net = readNet(\"..\\\\london.net.xml\")"
   ]
  },
  {
   "cell_type": "code",
   "execution_count": null,
   "id": "7510f72c",
   "metadata": {},
   "outputs": [],
   "source": [
    "def snap_to_edge(lat, lon, radius=500):\n",
    "    try:\n",
    "        x, y = net.convertLonLat2XY(lon, lat)\n",
    "        edges = net.getNeighboringEdges(x, y, radius)\n",
    "        if not edges:\n",
    "            return None\n",
    "            \n",
    "        # Prefer pedestrian-accessible edges\n",
    "        pedestrian_edges = [edge for edge, _ in edges if edge.allows('pedestrian')]\n",
    "        if pedestrian_edges:\n",
    "            return pedestrian_edges[0].getID()\n",
    "        else:\n",
    "            return edges[0][0].getID()\n",
    "    except:\n",
    "        return None\n",
    "\n",
    "def generate_random_point_within(poly):\n",
    "    minx, miny, maxx, maxy = poly.bounds\n",
    "    while True:\n",
    "        p = Point(random.uniform(minx, maxx), random.uniform(miny, maxy))\n",
    "        if poly.contains(p):\n",
    "            return p\n",
    "\n",
    "def trip_potential(row):\n",
    "    return int(row.get('<2km',0)*0.3 + row.get('<5km',0)*0.2 + row.get('<10km',0)*0.1) # Can change sampling weights\n",
    "\n",
    "def h3_to_latlon(h3_id):\n",
    "    return h3.cell_to_latlng(h3_id)"
   ]
  },
  {
   "cell_type": "code",
   "execution_count": null,
   "id": "7cd05f92",
   "metadata": {},
   "outputs": [
    {
     "name": "stdout",
     "output_type": "stream",
     "text": [
      "Existing stations: 798\n",
      "Recommended stations: 5\n"
     ]
    }
   ],
   "source": [
    "# Sanity check for the stations in our system\n",
    "recommended_coords = [h3_to_latlon(h3id) for h3id in recommended_stations['h3_index']]\n",
    "existing_coords = existing_stations[['lat', 'lon']].values.tolist()\n",
    "\n",
    "print(f\"Existing stations: {len(existing_coords)}\")\n",
    "print(f\"Recommended stations: {len(recommended_coords)}\")"
   ]
  },
  {
   "cell_type": "code",
   "execution_count": 7,
   "id": "4f7e3d85",
   "metadata": {},
   "outputs": [
    {
     "name": "stdout",
     "output_type": "stream",
     "text": [
      "Total OD pairs: 9433\n"
     ]
    }
   ],
   "source": [
    "od_points = []\n",
    "for _, row in merged.iterrows():\n",
    "    potential = trip_potential(row)\n",
    "    for _ in range(potential):\n",
    "        pt_o = generate_random_point_within(row.geometry)\n",
    "        pt_d = generate_random_point_within(row.geometry)\n",
    "        od_points.append((pt_o.y, pt_o.x, pt_d.y, pt_d.x))\n",
    "\n",
    "print(f\"Total OD pairs: {len(od_points)}\")"
   ]
  },
  {
   "cell_type": "code",
   "execution_count": null,
   "id": "7ff57c66",
   "metadata": {},
   "outputs": [],
   "source": [
    "with open(\"stations.poi.xml\", \"w\") as f:\n",
    "    f.write('<?xml version=\"1.0\"?>\\\\n<additional>\\\\n')\n",
    "    for i, (lat, lon) in enumerate(existing_coords):\n",
    "        edge = snap_to_edge(lat, lon)\n",
    "        if edge:\n",
    "            f.write(f'  <poi id=\"existing_{i}\" type=\"station\" x=\"{lon}\" y=\"{lat}\" color=\"blue\" layer=\"1\" roadId=\"{edge}\"/>\\\\n')\n",
    "    for i, (lat, lon) in enumerate(recommended_coords):\n",
    "        edge = snap_to_edge(lat, lon)\n",
    "        if edge:\n",
    "            f.write(f'  <poi id=\"recommended_{i}\" type=\"station\" x=\"{lon}\" y=\"{lat}\" color=\"green\" layer=\"1\" roadId=\"{edge}\"/>\\\\n')\n",
    "    f.write('</additional>')\n",
    "\n",
    "def build_balltree(coords): # Use balltree for nearest neighbor search\n",
    "    coords_rad = np.radians(coords)\n",
    "    return BallTree(coords_rad, metric='haversine'), coords_rad\n",
    "\n",
    "# Find two different stations near origin and destination + Ensure they are different\n",
    "def find_two_different_stations(origin_lat, origin_lon, dest_lat, dest_lon, station_coords, min_distance_km=0.5):\n",
    "    if len(station_coords) < 2:\n",
    "        return None, None\n",
    "        \n",
    "    balltree, station_coords_rad = build_balltree(station_coords)\n",
    "    \n",
    "    # Find nearest stations to OD pairs\n",
    "    origin_rad = np.radians([[origin_lat, origin_lon]])\n",
    "    dest_rad = np.radians([[dest_lat, dest_lon]])\n",
    "    \n",
    "    # Get multiple candidates for each point\n",
    "    k = min(5, len(station_coords))  # Get up to 5 nearest stations\n",
    "    \n",
    "    dist_o, idx_o = balltree.query(origin_rad, k=k)\n",
    "    dist_d, idx_d = balltree.query(dest_rad, k=k)\n",
    "    \n",
    "    # Try to find two different stations\n",
    "    for i in range(k):\n",
    "        for j in range(k):\n",
    "            station_A_idx = int(idx_o[0][i])\n",
    "            station_B_idx = int(idx_d[0][j])\n",
    "            \n",
    "            # Check for unique stations\n",
    "            if station_A_idx != station_B_idx:\n",
    "                station_A = station_coords[station_A_idx]\n",
    "                station_B = station_coords[station_B_idx]\n",
    "                \n",
    "                # Check minimum distance (Else it wouldn't make sense to use bike-sharing)\n",
    "                distance_km = geodesic(station_A, station_B).kilometers\n",
    "                if distance_km >= min_distance_km:\n",
    "                    return station_A, station_B\n",
    "    \n",
    "    # Fallback\n",
    "    return None, None"
   ]
  },
  {
   "cell_type": "code",
   "execution_count": null,
   "id": "4e12c123",
   "metadata": {},
   "outputs": [],
   "source": [
    "# Generate multimodal trips\n",
    "def generate_multimodal_trips(od_points, station_coords, max_trips=2000):\n",
    "    trips = []\n",
    "    skipped_same_station = 0\n",
    "    skipped_no_edge = 0\n",
    "    skipped_no_route = 0\n",
    "    \n",
    "    for i, (o_lat, o_lon, d_lat, d_lon) in enumerate(od_points[:max_trips]):\n",
    "        if i % 500 == 0:\n",
    "            print(f\"Processing trip {i}/{min(max_trips, len(od_points))}\")\n",
    "            \n",
    "        # Find edges for walking segments\n",
    "        walk_origin_edge = snap_to_edge(o_lat, o_lon)\n",
    "        walk_dest_edge = snap_to_edge(d_lat, d_lon)\n",
    "        \n",
    "        if not walk_origin_edge or not walk_dest_edge:\n",
    "            skipped_no_edge += 1\n",
    "            continue\n",
    "        \n",
    "        # Find two different stations\n",
    "        station_A, station_B = find_two_different_stations(\n",
    "            o_lat, o_lon, d_lat, d_lon, station_coords, min_distance_km=0.5\n",
    "        )\n",
    "        \n",
    "        if not station_A or not station_B:\n",
    "            skipped_same_station += 1\n",
    "            continue\n",
    "            \n",
    "        # Get edges for stations\n",
    "        station_A_edge = snap_to_edge(*station_A)\n",
    "        station_B_edge = snap_to_edge(*station_B)\n",
    "        \n",
    "        if not station_A_edge or not station_B_edge:\n",
    "            skipped_no_edge += 1\n",
    "            continue\n",
    "            \n",
    "        # Ensure station edges are different\n",
    "        if station_A_edge == station_B_edge:\n",
    "            skipped_same_station += 1\n",
    "            continue\n",
    "            \n",
    "        # Ensure all edges are different where they should be\n",
    "        edges = [walk_origin_edge, station_A_edge, station_B_edge, walk_dest_edge]\n",
    "        if station_A_edge == station_B_edge:\n",
    "            skipped_same_station += 1\n",
    "            continue\n",
    "            \n",
    "        trips.append({\n",
    "            \"walk_origin_edge\": walk_origin_edge,\n",
    "            \"station_A_edge\": station_A_edge,\n",
    "            \"station_B_edge\": station_B_edge,\n",
    "            \"walk_dest_edge\": walk_dest_edge,\n",
    "            \"origin_coords\": (o_lat, o_lon),\n",
    "            \"dest_coords\": (d_lat, d_lon),\n",
    "            \"station_A_coords\": station_A,\n",
    "            \"station_B_coords\": station_B\n",
    "        })\n",
    "    \n",
    "    print(f\"Generated {len(trips)} valid trips\")\n",
    "    print(f\"Skipped {skipped_same_station} trips due to same station\")\n",
    "    print(f\"Skipped {skipped_no_edge} trips due to missing edges\")\n",
    "    print(f\"Skipped {skipped_no_route} trips due to routing issues\")\n",
    "    \n",
    "    return trips"
   ]
  },
  {
   "cell_type": "code",
   "execution_count": null,
   "id": "c98e1470",
   "metadata": {},
   "outputs": [],
   "source": [
    "def validate_trips(trips, sample_size=10):\n",
    "    \"\"\"Validate a sample of trips to ensure they're correct\"\"\"\n",
    "    print(f\"\\\\nValidating {min(sample_size, len(trips))} trips...\")\n",
    "    \n",
    "    for i, trip in enumerate(trips[:sample_size]):\n",
    "        print(f\"\\\\nTrip {i}:\")\n",
    "        print(f\"  Walk: {trip['walk_origin_edge']} -> {trip['station_A_edge']}\")\n",
    "        print(f\"  Ride: {trip['station_A_edge']} -> {trip['station_B_edge']}\")\n",
    "        print(f\"  Walk: {trip['station_B_edge']} -> {trip['walk_dest_edge']}\")\n",
    "        \n",
    "        # Print check results\n",
    "        if trip['station_A_edge'] == trip['station_B_edge']:\n",
    "            print(f\"ERROR: Same station for ride segment\")\n",
    "        else:\n",
    "            print(f\"Different stations for ride segment\")\n",
    "            \n",
    "        # Distance check\n",
    "        dist = geodesic(trip['station_A_coords'], trip['station_B_coords']).kilometers\n",
    "        print(f\"  Station distance: {dist:.2f} km\")"
   ]
  },
  {
   "cell_type": "markdown",
   "id": "95606a40",
   "metadata": {},
   "source": [
    "## Make multimodal routes\n",
    "SUMO have a problem in modelling bike sharing systems as we can either model each agent as a pedestrian or a vehicle. The problem becomes, when we model the agents as a pedestrian, they can only use public transportation with pre-defined routes, which is not the case for bike-sharing services. Therefore, we have to model the agents so that they are two types of vehicles: 'walk_bike' and 'ride_bike'.\n",
    "\n",
    "'walk_bike' will have the same characteristics (speed, acceleration, etc.) as a normal pedestrian while 'ride_bike' will have the normal characteristic of a person riding a bicycle."
   ]
  },
  {
   "cell_type": "code",
   "execution_count": null,
   "id": "473735fa",
   "metadata": {},
   "outputs": [],
   "source": [
    "def write_person_trip_file(trip_data, output_file):\n",
    "    import xml.etree.ElementTree as ET\n",
    "\n",
    "    root = ET.Element(\"routes\")\n",
    "\n",
    "    # Define slow and fast bike types\n",
    "    ET.SubElement(root, \"vType\", {\n",
    "        \"id\": \"walk_bike\",\n",
    "        \"vClass\": \"bicycle\",\n",
    "        \"maxSpeed\": \"1.5\",\n",
    "        \"accel\": \"0.8\",\n",
    "        \"decel\": \"2.0\"\n",
    "    })\n",
    "    ET.SubElement(root, \"vType\", {\n",
    "        \"id\": \"ride_bike\",\n",
    "        \"vClass\": \"bicycle\",\n",
    "        \"maxSpeed\": \"5.0\",\n",
    "        \"accel\": \"2.0\",\n",
    "        \"decel\": \"4.0\"\n",
    "    })\n",
    "\n",
    "    valid_trip_count = 0\n",
    "    for i, trip in enumerate(trip_data):\n",
    "        # Skip redundant trips\n",
    "        if trip[\"walk_origin_edge\"] == trip[\"station_A_edge\"] == trip[\"station_B_edge\"] == trip[\"walk_dest_edge\"]:\n",
    "            continue\n",
    "\n",
    "        person = ET.SubElement(root, \"person\", {\n",
    "            \"id\": f\"person_{valid_trip_count}\",\n",
    "            \"depart\": str(valid_trip_count)\n",
    "        })\n",
    "\n",
    "        if trip[\"walk_origin_edge\"] != trip[\"station_A_edge\"]:\n",
    "            ET.SubElement(person, \"personTrip\", {\n",
    "                \"from\": trip[\"walk_origin_edge\"],\n",
    "                \"to\": trip[\"station_A_edge\"],\n",
    "                \"mode\": \"bike\",\n",
    "                \"type\": \"walk_bike\"\n",
    "            })\n",
    "\n",
    "        if trip[\"station_A_edge\"] != trip[\"station_B_edge\"]:\n",
    "            ET.SubElement(person, \"personTrip\", {\n",
    "                \"from\": trip[\"station_A_edge\"],\n",
    "                \"to\": trip[\"station_B_edge\"],\n",
    "                \"mode\": \"bike\",\n",
    "                \"type\": \"ride_bike\"\n",
    "            })\n",
    "\n",
    "        if trip[\"station_B_edge\"] != trip[\"walk_dest_edge\"]:\n",
    "            ET.SubElement(person, \"personTrip\", {\n",
    "                \"from\": trip[\"station_B_edge\"],\n",
    "                \"to\": trip[\"walk_dest_edge\"],\n",
    "                \"mode\": \"bike\",\n",
    "                \"type\": \"walk_bike\"\n",
    "            })\n",
    "\n",
    "        valid_trip_count += 1\n",
    "\n",
    "    tree = ET.ElementTree(root)\n",
    "    tree.write(output_file, encoding=\"utf-8\", xml_declaration=True)\n",
    "    print(f\"Wrote {valid_trip_count} valid person trips to {output_file}\")"
   ]
  },
  {
   "cell_type": "code",
   "execution_count": 15,
   "id": "a213904a",
   "metadata": {},
   "outputs": [
    {
     "name": "stdout",
     "output_type": "stream",
     "text": [
      "Processing trip 0/2000\n",
      "Processing trip 500/2000\n",
      "Processing trip 1000/2000\n",
      "Processing trip 1500/2000\n",
      "Generated 1456 valid trips\n",
      "Skipped 293 trips due to same station\n",
      "Skipped 251 trips due to missing edges\n",
      "Skipped 0 trips due to routing issues\n",
      "Processing trip 0/2000\n",
      "Processing trip 500/2000\n",
      "Processing trip 1000/2000\n",
      "Processing trip 1500/2000\n",
      "Generated 1456 valid trips\n",
      "Skipped 293 trips due to same station\n",
      "Skipped 251 trips due to missing edges\n",
      "Skipped 0 trips due to routing issues\n"
     ]
    }
   ],
   "source": [
    "# Generate trips with the fixed algorithm\n",
    "multimodal_before = generate_multimodal_trips(od_points, existing_coords, max_trips=2000)\n",
    "multimodal_after = generate_multimodal_trips(od_points, existing_coords + recommended_coords, max_trips=2000)\n"
   ]
  },
  {
   "cell_type": "code",
   "execution_count": 16,
   "id": "37e6214c",
   "metadata": {},
   "outputs": [
    {
     "name": "stdout",
     "output_type": "stream",
     "text": [
      "✅ Wrote 1456 valid person trips to trips_before.rou.xml\n",
      "✅ Wrote 1456 valid person trips to trips_after.rou.xml\n"
     ]
    }
   ],
   "source": [
    "write_person_trip_file(multimodal_before, \"trips_before.rou.xml\")\n",
    "write_person_trip_file(multimodal_after, \"trips_after.rou.xml\")\n"
   ]
  }
 ],
 "metadata": {
  "kernelspec": {
   "display_name": "base",
   "language": "python",
   "name": "python3"
  },
  "language_info": {
   "codemirror_mode": {
    "name": "ipython",
    "version": 3
   },
   "file_extension": ".py",
   "mimetype": "text/x-python",
   "name": "python",
   "nbconvert_exporter": "python",
   "pygments_lexer": "ipython3",
   "version": "3.10.9"
  }
 },
 "nbformat": 4,
 "nbformat_minor": 5
}
