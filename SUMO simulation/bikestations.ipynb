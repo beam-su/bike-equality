{
 "cells": [
  {
   "cell_type": "code",
   "execution_count": 12,
   "id": "4e2ca7e4",
   "metadata": {},
   "outputs": [],
   "source": [
    "import pandas as pd\n",
    "import geopandas as gpd\n",
    "import os\n",
    "from shapely.geometry import Point\n",
    "from lxml import etree\n",
    "import h3"
   ]
  },
  {
   "cell_type": "code",
   "execution_count": 29,
   "id": "e207f67d",
   "metadata": {},
   "outputs": [
    {
     "data": {
      "text/html": [
       "<div>\n",
       "<style scoped>\n",
       "    .dataframe tbody tr th:only-of-type {\n",
       "        vertical-align: middle;\n",
       "    }\n",
       "\n",
       "    .dataframe tbody tr th {\n",
       "        vertical-align: top;\n",
       "    }\n",
       "\n",
       "    .dataframe thead th {\n",
       "        text-align: right;\n",
       "    }\n",
       "</style>\n",
       "<table border=\"1\" class=\"dataframe\">\n",
       "  <thead>\n",
       "    <tr style=\"text-align: right;\">\n",
       "      <th></th>\n",
       "      <th>lat</th>\n",
       "      <th>lon</th>\n",
       "      <th>name</th>\n",
       "    </tr>\n",
       "  </thead>\n",
       "  <tbody>\n",
       "    <tr>\n",
       "      <th>0</th>\n",
       "      <td>51.529163</td>\n",
       "      <td>-0.109970</td>\n",
       "      <td>River Street , Clerkenwell</td>\n",
       "    </tr>\n",
       "    <tr>\n",
       "      <th>1</th>\n",
       "      <td>51.499606</td>\n",
       "      <td>-0.197574</td>\n",
       "      <td>Phillimore Gardens, Kensington</td>\n",
       "    </tr>\n",
       "    <tr>\n",
       "      <th>2</th>\n",
       "      <td>51.521283</td>\n",
       "      <td>-0.084605</td>\n",
       "      <td>Christopher Street, Liverpool Street</td>\n",
       "    </tr>\n",
       "    <tr>\n",
       "      <th>3</th>\n",
       "      <td>51.530059</td>\n",
       "      <td>-0.120973</td>\n",
       "      <td>St. Chad's Street, King's Cross</td>\n",
       "    </tr>\n",
       "    <tr>\n",
       "      <th>4</th>\n",
       "      <td>51.493130</td>\n",
       "      <td>-0.156876</td>\n",
       "      <td>Sedding Street, Sloane Square</td>\n",
       "    </tr>\n",
       "    <tr>\n",
       "      <th>...</th>\n",
       "      <td>...</td>\n",
       "      <td>...</td>\n",
       "      <td>...</td>\n",
       "    </tr>\n",
       "    <tr>\n",
       "      <th>793</th>\n",
       "      <td>51.461923</td>\n",
       "      <td>-0.165297</td>\n",
       "      <td>Limburg Road, Clapham Junction</td>\n",
       "    </tr>\n",
       "    <tr>\n",
       "      <th>794</th>\n",
       "      <td>51.532091</td>\n",
       "      <td>-0.061419</td>\n",
       "      <td>Pritchard's Road, Bethnal Green</td>\n",
       "    </tr>\n",
       "    <tr>\n",
       "      <th>795</th>\n",
       "      <td>51.486343</td>\n",
       "      <td>-0.122492</td>\n",
       "      <td>Kennington Lane Rail Bridge, Vauxhall</td>\n",
       "    </tr>\n",
       "    <tr>\n",
       "      <th>796</th>\n",
       "      <td>51.490435</td>\n",
       "      <td>-0.122806</td>\n",
       "      <td>Albert Embankment, Vauxhall</td>\n",
       "    </tr>\n",
       "    <tr>\n",
       "      <th>797</th>\n",
       "      <td>51.500139</td>\n",
       "      <td>-0.113935</td>\n",
       "      <td>Lower Marsh, Waterloo</td>\n",
       "    </tr>\n",
       "  </tbody>\n",
       "</table>\n",
       "<p>798 rows × 3 columns</p>\n",
       "</div>"
      ],
      "text/plain": [
       "           lat       lon                                   name\n",
       "0    51.529163 -0.109970             River Street , Clerkenwell\n",
       "1    51.499606 -0.197574         Phillimore Gardens, Kensington\n",
       "2    51.521283 -0.084605   Christopher Street, Liverpool Street\n",
       "3    51.530059 -0.120973        St. Chad's Street, King's Cross\n",
       "4    51.493130 -0.156876          Sedding Street, Sloane Square\n",
       "..         ...       ...                                    ...\n",
       "793  51.461923 -0.165297         Limburg Road, Clapham Junction\n",
       "794  51.532091 -0.061419        Pritchard's Road, Bethnal Green\n",
       "795  51.486343 -0.122492  Kennington Lane Rail Bridge, Vauxhall\n",
       "796  51.490435 -0.122806            Albert Embankment, Vauxhall\n",
       "797  51.500139 -0.113935                  Lower Marsh, Waterloo\n",
       "\n",
       "[798 rows x 3 columns]"
      ]
     },
     "execution_count": 29,
     "metadata": {},
     "output_type": "execute_result"
    }
   ],
   "source": [
    "df = pd.read_csv(\"..\\Datasets\\existing_stations.csv\", usecols=['lat','lon','name'])\n",
    "df"
   ]
  },
  {
   "cell_type": "code",
   "execution_count": null,
   "id": "883bde33",
   "metadata": {},
   "outputs": [],
   "source": [
    "df['h3_id'] = [h3.latlng_to_cell(lat, lon, 9) for lat, lon in zip(df['lat'], df['lon'])]\n",
    "df1 = df['h3_id'].unique()"
   ]
  },
  {
   "cell_type": "code",
   "execution_count": 28,
   "id": "ad4ec539",
   "metadata": {},
   "outputs": [],
   "source": [
    "output = df.groupby('h3_id').agg({\n",
    "    'name': 'count',\n",
    "    'lat': 'mean',\n",
    "    'lon': 'mean'\n",
    "}).rename(columns={'name': 'station_count'}).reset_index()\n",
    "\n",
    "output.to_csv('..\\Datasets\\h3_stations.csv', index=False)"
   ]
  }
 ],
 "metadata": {
  "kernelspec": {
   "display_name": "base",
   "language": "python",
   "name": "python3"
  },
  "language_info": {
   "codemirror_mode": {
    "name": "ipython",
    "version": 3
   },
   "file_extension": ".py",
   "mimetype": "text/x-python",
   "name": "python",
   "nbconvert_exporter": "python",
   "pygments_lexer": "ipython3",
   "version": "3.10.9"
  }
 },
 "nbformat": 4,
 "nbformat_minor": 5
}
